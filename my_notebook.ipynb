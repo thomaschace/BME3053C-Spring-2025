{
 "cells": [
  {
   "cell_type": "code",
   "execution_count": null,
   "metadata": {
    "vscode": {
     "languageId": "plaintext"
    }
   },
   "outputs": [],
   "source": [
    "from my_module import add, subtract, multiply, divide\n",
    "   \n",
    "   print(add(5, 3))  # Output: 8"
   ]
  },
  {
   "cell_type": "code",
   "execution_count": null,
   "metadata": {
    "vscode": {
     "languageId": "plaintext"
    }
   },
   "outputs": [],
   "source": [
    "import importlib\n",
    "   import my_module\n",
    "   \n",
    "   # After making changes to your module files\n",
    "   importlib.reload(my_module)\n",
    "   \n",
    "   # Now you can use the updated functions\n",
    "   from my_module import add, subtract, multiply, divide\n",
    "   \n",
    "   print(add(5, 3))  # Will use the updated version"
   ]
  },
  {
   "cell_type": "code",
   "execution_count": null,
   "metadata": {
    "vscode": {
     "languageId": "plaintext"
    }
   },
   "outputs": [],
   "source": [
    "import importlib\n",
    "   import my_module.math_operations\n",
    "   \n",
    "   # Reload the specific submodule\n",
    "   importlib.reload(my_module.math_operations)\n",
    "   \n",
    "   # Then reload the main module\n",
    "   importlib.reload(my_module)\n",
    "   \n",
    "   # Now import the updated functions\n",
    "   from my_module import add, subtract, multiply, divide"
   ]
  }
 ],
 "metadata": {
  "language_info": {
   "name": "python"
  }
 },
 "nbformat": 4,
 "nbformat_minor": 2
}
