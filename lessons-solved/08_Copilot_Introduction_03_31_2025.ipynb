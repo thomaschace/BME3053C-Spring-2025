{
 "cells": [
  {
   "cell_type": "markdown",
   "metadata": {},
   "source": [
    "# BME3053C - Computer Applications for BME\n",
    "\n",
    "<br/>\n",
    "\n",
    "<h1 align=\"center\">GitHub Copilot Introduction</h1>\n",
    "\n",
    "---\n",
    "\n",
    "<center><h2>Introduction to AI-Assisted Programming</h2></center>\n",
    "\n",
    "<br/>"
   ]
  },
  {
   "cell_type": "markdown",
   "metadata": {},
   "source": [
    "# What is GitHub Copilot?\n",
    "\n",
    "GitHub Copilot is an AI pair programmer that helps you write code faster and with less effort. It works by:\n",
    "\n",
    "- Suggesting whole lines or blocks of code as you type\n",
    "- Converting comments into working code\n",
    "- Helping you understand and work with unfamiliar libraries\n",
    "- Offering multiple suggestions for you to choose from\n",
    "- Learning from your coding style and preferences\n",
    "\n",
    "# Getting Started with Copilot\n",
    "\n",
    "1. **Access Copilot through GitHub Student Developer Pack**:\n",
    "   - Sign up for the [GitHub Student Developer Pack](https://education.github.com/pack)\n",
    "   - Once approved, activate your free Copilot subscription\n",
    "\n",
    "2. **Install Copilot in Your Development Environment**:\n",
    "   - VS Code: Install the \"GitHub Copilot\" extension\n",
    "   - GitHub Codespaces: Copilot is available by default\n",
    "   - JupyterLab: Install the Copilot extension\n",
    "\n",
    "3. **Verify Installation**:\n",
    "   - Look for the Copilot icon in your editor's status bar\n",
    "   - The icon should be active (not grayed out)\n",
    "   - You might need to sign in to GitHub to activate Copilot"
   ]
  },
  {
   "cell_type": "markdown",
   "metadata": {},
   "source": [
    "# Switching AI Models in Copilot\n",
    "\n",
    "GitHub Copilot offers different AI models to help with various coding tasks. Here's how to switch between them:\n",
    "\n",
    "## Available Models\n",
    "\n",
    "- **Default (GPT-3.5 Turbo)**: The standard model for general coding assistance\n",
    "- **GPT-4**: More powerful model with enhanced code understanding and generation capabilities\n",
    "- **Copilot Chat**: Conversational interface for complex queries and explanations\n",
    "\n",
    "## How to Switch Models\n",
    "\n",
    "1. **In VS Code**:\n",
    "    - Click on the Copilot icon in the status bar\n",
    "    - Select \"GitHub Copilot: Switch Model\"\n",
    "    - Choose your preferred model from the dropdown menu\n",
    "\n",
    "2. **Using Command Palette**:\n",
    "    - Press `Ctrl+Shift+P` (Windows/Linux) or `Cmd+Shift+P` (Mac)\n",
    "    - Type \"GitHub Copilot: Switch Model\"\n",
    "    - Select the desired model\n",
    "\n",
    "3. **In Copilot Chat**:\n",
    "    - Type `/model` followed by the model name\n",
    "    - Example: `/model gpt-4`\n",
    "\n",
    "## When to Use Different Models\n",
    "\n",
    "- **Default Model**: Everyday coding tasks, quick suggestions\n",
    "- **GPT-4**: Complex algorithms, thorough code explanations, challenging problems\n",
    "- **Specialized Models**: Domain-specific coding (when available)\n",
    "\n",
    "Remember that more powerful models might be slower to respond or have usage limitations based on your subscription plan."
   ]
  },
  {
   "cell_type": "markdown",
   "metadata": {},
   "source": [
    "# Basic Usage\n",
    "\n",
    "## 1. Code Completion\n",
    "\n",
    "Copilot provides suggestions as you type. Let's try some examples:\n",
    "\n",
    "1. Start typing a function definition:\n",
    "```python\n",
    "def calculate_bmi(weight, height):\n",
    "    # Calculate BMI using weight in kg and height in meters\n",
    "```\n",
    "\n",
    "2. Copilot will suggest the implementation. Press Tab to accept or keep typing for different suggestions."
   ]
  },
  {
   "cell_type": "code",
   "execution_count": 1,
   "metadata": {},
   "outputs": [
    {
     "ename": "SyntaxError",
     "evalue": "incomplete input (3444440351.py, line 3)",
     "output_type": "error",
     "traceback": [
      "  \u001b[36mCell\u001b[39m\u001b[36m \u001b[39m\u001b[32mIn[1]\u001b[39m\u001b[32m, line 3\u001b[39m\n\u001b[31m    \u001b[39m\n    ^\n\u001b[31mSyntaxError\u001b[39m\u001b[31m:\u001b[39m incomplete input\n"
     ]
    }
   ],
   "source": [
    "def calculate_bmi(weight, height):\n",
    "    # Calculate BMI using weight in kg and height in meters\n",
    "    "
   ]
  },
  {
   "cell_type": "markdown",
   "metadata": {},
   "source": [
    "## 2. Comment-to-Code\n",
    "\n",
    "One of Copilot's most powerful features is generating code from comments:\n"
   ]
  },
  {
   "cell_type": "code",
   "execution_count": null,
   "metadata": {},
   "outputs": [],
   "source": [
    "# Create a function that converts temperature from Celsius to Fahrenheit\n",
    "# Include input validation and round to 2 decimal places\n",
    "\n",
    "# Try typing this comment and let Copilot suggest the implementation"
   ]
  },
  {
   "cell_type": "markdown",
   "metadata": {},
   "source": [
    "## 3. Working with Libraries\n",
    "\n",
    "Copilot is particularly helpful when working with libraries. It can suggest proper import statements and usage patterns:"
   ]
  },
  {
   "cell_type": "code",
   "execution_count": null,
   "metadata": {},
   "outputs": [],
   "source": [
    "# Create a scatter plot using matplotlib with the following features:\n",
    "# - Random data points\n",
    "# - Custom colors based on point values\n",
    "# - A trend line\n",
    "# - Proper labels and title\n",
    "# - A legend\n",
    "# - Proper\n",
    "\n",
    "# Let Copilot suggest the implementation"
   ]
  },
  {
   "cell_type": "markdown",
   "metadata": {},
   "source": [
    "## 4. Keyboard Shortcuts for Copilot\n",
    "\n",
    "Here are all the keyboard shortcuts to enhance your productivity with Copilot:\n",
    "\n",
    "### General Shortcuts\n",
    "- **Accept Suggestion**: Press `Tab` to accept the current suggestion.\n",
    "- **Reject Suggestion**: Press `Esc` to dismiss the suggestion.\n",
    "- **Trigger Suggestion**: Press `Ctrl + Space` (Windows/Linux) or `Cmd + Space` (Mac) to manually trigger Copilot suggestions.\n",
    "\n",
    "### Navigating Suggestions\n",
    "- **Cycle Through Suggestions**:\n",
    "    - Press `Alt + ]` (Windows/Linux) or `Option + ]` (Mac) to see the next suggestion.\n",
    "    - Press `Alt + [` (Windows/Linux) or `Option + [` (Mac) to go back to the previous suggestion.\n",
    "\n",
    "### Copilot Panel\n",
    "- **Open Copilot Panel**: Press `Ctrl + Enter` (Windows/Linux) or `Cmd + Enter` (Mac) to open the Copilot panel for more suggestions.\n",
    "\n",
    "### Inline Suggestions\n",
    "- **Show Next Inline Suggestion**: Press `Alt + \\` (Windows/Linux) or `Option + \\` (Mac).\n",
    "- **Show Previous Inline Suggestion**: Press `Alt + Shift + \\` (Windows/Linux) or `Option + Shift + \\` (Mac).\n",
    "\n",
    "### Dismiss Suggestions\n",
    "- **Dismiss Inline Suggestion**: Press `Esc`.\n",
    "\n",
    "### Ghost Text\n",
    "- **Accept Word**: Press `Ctrl + Right Arrow` (Windows/Linux) or `Cmd + Right Arrow` (Mac) to accept one word at a time.\n",
    "- **Accept Line**: Press `Ctrl + End` (Windows/Linux) or `Cmd + End` (Mac) to accept the rest of the line.\n",
    "\n",
    "### Chat Features\n",
    "- **Open Copilot Chat**: Press `Ctrl + Shift + I` (Windows/Linux) or `Cmd + Shift + I` (Mac).\n",
    "- **Send Message in Chat**: Press `Shift + Enter` or click the send button.\n",
    "\n",
    "These shortcuts can help you navigate and utilize Copilot more effectively while coding."
   ]
  },
  {
   "cell_type": "markdown",
   "metadata": {},
   "source": [
    "\n",
    "## 5. Whole File Generation\n",
    "\n",
    "Copilot can generate entire files based on a description. Start with a detailed comment at the top of the file:\n",
    "```python\n",
    "# Create a FastAPI application that:\n",
    "# 1. Implements a RESTful API for managing patient data\n",
    "# 2. Provides endpoints for adding, retrieving, and updating patient records\n",
    "# 3. Includes data validation and error handling\n",
    "# 4. Implements authentication for secure access\n",
    "# 5. Returns data in JSON format with proper status codes\n",
    "```\n",
    "\n",
    "## 6. Test Generation\n",
    "\n",
    "Copilot can help write tests for your code:"
   ]
  },
  {
   "cell_type": "code",
   "execution_count": 7,
   "metadata": {},
   "outputs": [],
   "source": [
    "def calculate_dosage(weight, age, condition):\n",
    "    \"\"\"Calculate medication dosage based on patient parameters.\"\"\"\n",
    "    if weight <= 0 or age < 0:\n",
    "        raise ValueError(\"Weight and age must be positive\")\n",
    "    \n",
    "    base_dosage = weight * 2\n",
    "    if age < 12:\n",
    "        base_dosage *= 0.75\n",
    "    \n",
    "    if condition == \"severe\":\n",
    "        base_dosage *= 1.5\n",
    "    \n",
    "    return round(base_dosage, 2)\n",
    "\n",
    "# Write pytest test cases for the above function\n",
    "# Include tests for normal cases, edge cases, and error conditions\n",
    "import pytest\n",
    "\n",
    "def test_normal_case():\n",
    "    assert calculate_dosage(50, 30, \"normal\") == 100.0\n",
    "    assert calculate_dosage(70, 25, \"normal\") == 140.0\n",
    "\n",
    "def test_child_case():\n",
    "    assert calculate_dosage(40, 10, \"normal\") == 60.0  # 40 * 2 * 0.75\n",
    "    assert calculate_dosage(30, 8, \"normal\") == 45.0   # 30 * 2 * 0.75\n",
    "\n",
    "def test_severe_condition():\n",
    "    assert calculate_dosage(50, 30, \"severe\") == 150.0  # 50 * 2 * 1.5\n",
    "    assert calculate_dosage(40, 10, \"severe\") == 90.0   # 40 * 2 * 0.75 * 1.5\n",
    "\n",
    "def test_edge_cases():\n",
    "    assert calculate_dosage(1, 0, \"normal\") == 2.0\n",
    "    assert calculate_dosage(1, 11, \"severe\") == 3.0\n",
    "\n",
    "def test_invalid_input():\n",
    "    with pytest.raises(ValueError):\n",
    "        calculate_dosage(-10, 30, \"normal\")\n",
    "    with pytest.raises(ValueError):\n",
    "        calculate_dosage(50, -5, \"normal\")\n",
    "    with pytest.raises(ValueError):\n",
    "        calculate_dosage(0, 0, \"normal\")"
   ]
  },
  {
   "cell_type": "markdown",
   "metadata": {},
   "source": [
    "# Best Practices\n",
    "\n",
    "1. **Review Generated Code**:\n",
    "   - Always review and understand code before accepting it\n",
    "   - Check for potential security issues\n",
    "   - Verify that the code follows your project's standards\n",
    "\n",
    "2. **Write Clear Comments**:\n",
    "   - Be specific about what you want\n",
    "   - Include important requirements in comments\n",
    "   - Mention edge cases and error handling needs\n",
    "\n",
    "3. **Iterative Refinement**:\n",
    "   - Start with a basic implementation\n",
    "   - Add comments for additional features\n",
    "   - Let Copilot help refactor and improve the code\n",
    "\n"
   ]
  },
  {
   "cell_type": "markdown",
   "metadata": {},
   "source": [
    "### ✏️ Exercise Create a function that processes medical image data:\n",
    "   - Accept a numpy array representing an image\n",
    "   - Apply basic image processing (normalization, filtering)\n",
    "   - Return the processed image\n",
    "   - Include proper error handling"
   ]
  },
  {
   "cell_type": "code",
   "execution_count": 14,
   "metadata": {},
   "outputs": [
    {
     "data": {
      "image/png": "[encoded data removed]",
      "text/plain": [
       "<Figure size 1000x500 with 4 Axes>"
      ]
     },
     "metadata": {},
     "output_type": "display_data"
    }
   ],
   "source": [
    "import numpy as np\n",
    "from scipy.ndimage import gaussian_filter\n",
    "import matplotlib.pyplot as plt  # Import matplotlib for visualization\n",
    "\n",
    "def process_medical_image(image):\n",
    "    \"\"\"\n",
    "    Process medical image data by normalizing and applying a Gaussian filter.\n",
    "\n",
    "    Parameters:\n",
    "        image (numpy.ndarray): Input image as a numpy array.\n",
    "\n",
    "    Returns:\n",
    "        numpy.ndarray: Processed image.\n",
    "\n",
    "    Raises:\n",
    "        ValueError: If the input is not a numpy array or is empty.\n",
    "    \"\"\"\n",
    "    # Error handling: Check if input is a valid numpy array\n",
    "    if not isinstance(image, np.ndarray):\n",
    "        raise ValueError(\"Input must be a numpy array.\")\n",
    "    if image.size == 0:\n",
    "        raise ValueError(\"Input image cannot be empty.\")\n",
    "\n",
    "    # Step 1: Normalize the image (scale pixel values to range [0, 1])\n",
    "    normalized_image = (image - np.min(image)) / (np.max(image) - np.min(image))\n",
    "\n",
    "    # Step 2: Apply a Gaussian filter for smoothing\n",
    "    filtered_image = gaussian_filter(normalized_image, sigma=1)\n",
    "\n",
    "    return filtered_image\n",
    "\n",
    "# Example: Create a synthetic medical image (a 2D numpy array)\n",
    "image = np.random.randint(0, 256, (100, 100))  # Random grayscale image (100x100 pixels)\n",
    "\n",
    "# Process the image\n",
    "processed_image = process_medical_image(image)\n",
    "\n",
    "# Display the original and processed images side by side\n",
    "plt.figure(figsize=(10, 5))\n",
    "\n",
    "# Original image\n",
    "plt.subplot(1, 2, 1)\n",
    "plt.imshow(image, cmap='gray')\n",
    "plt.title(\"Original Image\")\n",
    "plt.colorbar()\n",
    "\n",
    "# Processed image\n",
    "plt.subplot(1, 2, 2)\n",
    "plt.imshow(processed_image, cmap='gray')\n",
    "plt.title(\"Processed Image\")\n",
    "plt.colorbar()\n",
    "\n",
    "plt.tight_layout()\n",
    "plt.show()"
   ]
  },
  {
   "cell_type": "markdown",
   "metadata": {},
   "source": [
    "\n",
    "### ✏️ Exercise: Write a class for managing patient records\n",
    "   - Include methods for adding, updating, and retrieving records\n",
    "   - Implement data validation\n",
    "   - Add methods for basic statistical analysis"
   ]
  },
  {
   "cell_type": "code",
   "execution_count": 16,
   "metadata": {},
   "outputs": [
    {
     "name": "stdout",
     "output_type": "stream",
     "text": [
      "{'name': 'Alice', 'age': 30, 'weight': 65.5, 'condition': 'Flu'}\n",
      "{'name': 'Alice', 'age': 30, 'weight': 66.0, 'condition': 'Recovered'}\n",
      "Average Age: 37.5\n",
      "Average Weight: 73.0\n"
     ]
    }
   ],
   "source": [
    "class PatientRecords:\n",
    "    def __init__(self):\n",
    "        \"\"\"Initialize an empty dictionary to store patient records.\"\"\"\n",
    "        self.records = {}\n",
    "\n",
    "    def add_record(self, patient_id, name, age, weight, condition):\n",
    "        \"\"\"\n",
    "        Add a new patient record.\n",
    "\n",
    "        Parameters:\n",
    "            patient_id (str): Unique identifier for the patient.\n",
    "            name (str): Patient's name.\n",
    "            age (int): Patient's age.\n",
    "            weight (float): Patient's weight in kilograms.\n",
    "            condition (str): Patient's medical condition.\n",
    "\n",
    "        Raises:\n",
    "            ValueError: If any input is invalid.\n",
    "        \"\"\"\n",
    "        if not isinstance(patient_id, str) or not patient_id:\n",
    "            raise ValueError(\"Patient ID must be a non-empty string.\")\n",
    "        if not isinstance(name, str) or not name:\n",
    "            raise ValueError(\"Name must be a non-empty string.\")\n",
    "        if not isinstance(age, int) or age <= 0:\n",
    "            raise ValueError(\"Age must be a positive integer.\")\n",
    "        if not isinstance(weight, (int, float)) or weight <= 0:\n",
    "            raise ValueError(\"Weight must be a positive number.\")\n",
    "        if not isinstance(condition, str) or not condition:\n",
    "            raise ValueError(\"Condition must be a non-empty string.\")\n",
    "\n",
    "        self.records[patient_id] = {\n",
    "            \"name\": name,\n",
    "            \"age\": age,\n",
    "            \"weight\": weight,\n",
    "            \"condition\": condition,\n",
    "        }\n",
    "\n",
    "    def update_record(self, patient_id, **kwargs):\n",
    "        \"\"\"\n",
    "        Update an existing patient record.\n",
    "\n",
    "        Parameters:\n",
    "            patient_id (str): Unique identifier for the patient.\n",
    "            kwargs: Fields to update (e.g., name, age, weight, condition).\n",
    "\n",
    "        Raises:\n",
    "            KeyError: If the patient ID does not exist.\n",
    "            ValueError: If any input is invalid.\n",
    "        \"\"\"\n",
    "        if patient_id not in self.records:\n",
    "            raise KeyError(f\"No record found for patient ID: {patient_id}\")\n",
    "\n",
    "        for key, value in kwargs.items():\n",
    "            if key not in self.records[patient_id]:\n",
    "                raise ValueError(f\"Invalid field: {key}\")\n",
    "            if key == \"age\" and (not isinstance(value, int) or value <= 0):\n",
    "                raise ValueError(\"Age must be a positive integer.\")\n",
    "            if key == \"weight\" and (not isinstance(value, (int, float)) or value <= 0):\n",
    "                raise ValueError(\"Weight must be a positive number.\")\n",
    "            self.records[patient_id][key] = value\n",
    "\n",
    "    def get_record(self, patient_id):\n",
    "        \"\"\"\n",
    "        Retrieve a patient record.\n",
    "\n",
    "        Parameters:\n",
    "            patient_id (str): Unique identifier for the patient.\n",
    "\n",
    "        Returns:\n",
    "            dict: Patient's record.\n",
    "\n",
    "        Raises:\n",
    "            KeyError: If the patient ID does not exist.\n",
    "        \"\"\"\n",
    "        if patient_id not in self.records:\n",
    "            raise KeyError(f\"No record found for patient ID: {patient_id}\")\n",
    "        return self.records[patient_id]\n",
    "\n",
    "    def get_average_age(self):\n",
    "        \"\"\"\n",
    "        Calculate the average age of all patients.\n",
    "\n",
    "        Returns:\n",
    "            float: Average age of patients, rounded to 2 decimal places.\n",
    "\n",
    "        Raises:\n",
    "            ValueError: If there are no records.\n",
    "        \"\"\"\n",
    "        if not self.records:\n",
    "            raise ValueError(\"No records available to calculate average age.\")\n",
    "        total_age = sum(record[\"age\"] for record in self.records.values())\n",
    "        return round(total_age / len(self.records), 2)\n",
    "\n",
    "    def get_average_weight(self):\n",
    "        \"\"\"\n",
    "        Calculate the average weight of all patients.\n",
    "\n",
    "        Returns:\n",
    "            float: Average weight of patients, rounded to 2 decimal places.\n",
    "\n",
    "        Raises:\n",
    "            ValueError: If there are no records.\n",
    "        \"\"\"\n",
    "        if not self.records:\n",
    "            raise ValueError(\"No records available to calculate average weight.\")\n",
    "        total_weight = sum(record[\"weight\"] for record in self.records.values())\n",
    "        return round(total_weight / len(self.records), 2)\n",
    "    \n",
    "# Create an instance of PatientRecords\n",
    "records = PatientRecords()\n",
    "\n",
    "# Add patient records\n",
    "records.add_record(\"P001\", \"Alice\", 30, 65.5, \"Flu\")\n",
    "records.add_record(\"P002\", \"Bob\", 45, 80.0, \"Diabetes\")\n",
    "\n",
    "# Retrieve a record\n",
    "print(records.get_record(\"P001\"))\n",
    "\n",
    "# Update a record\n",
    "records.update_record(\"P001\", weight=66.0, condition=\"Recovered\")\n",
    "\n",
    "# Get updated record\n",
    "print(records.get_record(\"P001\"))\n",
    "\n",
    "# Perform statistical analysis\n",
    "print(\"Average Age:\", records.get_average_age())\n",
    "print(\"Average Weight:\", records.get_average_weight())"
   ]
  },
  {
   "cell_type": "markdown",
   "metadata": {},
   "source": [
    "### ✏️ Exercise: Create a data visualization dashboard\n",
    "   - Use pandas for data manipulation\n",
    "   - Create multiple types of plots using matplotlib\n",
    "   - Add interactive elements"
   ]
  },
  {
   "cell_type": "code",
   "execution_count": 1,
   "metadata": {},
   "outputs": [
    {
     "name": "stdout",
     "output_type": "stream",
     "text": [
      "Interactive Bar Chart:\n"
     ]
    },
    {
     "data": {
      "application/vnd.jupyter.widget-view+json": {
       "model_id": "ae450aa4ab0747fd807b103886151c8b",
       "version_major": 2,
       "version_minor": 0
      },
      "text/plain": [
       "interactive(children=(Dropdown(description='Column:', options=('Name', 'Age', 'Weight', 'Condition'), value='N…"
      ]
     },
     "metadata": {},
     "output_type": "display_data"
    },
    {
     "name": "stdout",
     "output_type": "stream",
     "text": [
      "\n",
      "Interactive Scatter Plot:\n"
     ]
    },
    {
     "data": {
      "application/vnd.jupyter.widget-view+json": {
       "model_id": "8435b930c20746c688bb9539ad69d54b",
       "version_major": 2,
       "version_minor": 0
      },
      "text/plain": [
       "interactive(children=(Dropdown(description='X-axis:', options=('Name', 'Age', 'Weight', 'Condition'), value='N…"
      ]
     },
     "metadata": {},
     "output_type": "display_data"
    },
    {
     "data": {
      "text/plain": [
       "<function __main__.plot_scatter_chart(x_column, y_column)>"
      ]
     },
     "execution_count": 1,
     "metadata": {},
     "output_type": "execute_result"
    }
   ],
   "source": [
    "import pandas as pd\n",
    "import matplotlib.pyplot as plt\n",
    "from ipywidgets import interact, widgets\n",
    "\n",
    "# Sample dataset\n",
    "data = {\n",
    "    \"Name\": [\"Alice\", \"Bob\", \"Charlie\", \"David\", \"Eve\"],\n",
    "    \"Age\": [25, 30, 35, 40, 45],\n",
    "    \"Weight\": [55, 70, 68, 80, 60],\n",
    "    \"Condition\": [\"Healthy\", \"Diabetes\", \"Healthy\", \"Hypertension\", \"Healthy\"],\n",
    "}\n",
    "df = pd.DataFrame(data)\n",
    "\n",
    "# Function to display a bar chart of a selected column\n",
    "def plot_bar_chart(column):\n",
    "    plt.figure(figsize=(8, 5))\n",
    "    df[column].value_counts().plot(kind=\"bar\", color=\"skyblue\")\n",
    "    plt.title(f\"Bar Chart of {column}\")\n",
    "    plt.xlabel(column)\n",
    "    plt.ylabel(\"Count\")\n",
    "    plt.xticks(rotation=45)\n",
    "    plt.show()\n",
    "\n",
    "# Function to display a scatter plot of two selected columns\n",
    "def plot_scatter_chart(x_column, y_column):\n",
    "    plt.figure(figsize=(8, 5))\n",
    "    plt.scatter(df[x_column], df[y_column], color=\"green\", alpha=0.7)\n",
    "    plt.title(f\"Scatter Plot: {x_column} vs {y_column}\")\n",
    "    plt.xlabel(x_column)\n",
    "    plt.ylabel(y_column)\n",
    "    plt.grid(True)\n",
    "    plt.show()\n",
    "\n",
    "# Interactive bar chart\n",
    "print(\"Interactive Bar Chart:\")\n",
    "interact(plot_bar_chart, column=widgets.Dropdown(options=df.columns, description=\"Column:\"))\n",
    "\n",
    "# Interactive scatter plot\n",
    "print(\"\\nInteractive Scatter Plot:\")\n",
    "interact(\n",
    "    plot_scatter_chart,\n",
    "    x_column=widgets.Dropdown(options=df.columns, description=\"X-axis:\"),\n",
    "    y_column=widgets.Dropdown(options=df.columns, description=\"Y-axis:\"),\n",
    ")"
   ]
  },
  {
   "cell_type": "markdown",
   "metadata": {},
   "source": [
    "# Conclusion\n",
    "\n",
    "GitHub Copilot is a powerful tool that can significantly enhance your coding productivity. Remember:\n",
    "\n",
    "- It's an assistant, not a replacement for understanding code\n",
    "- Always review and test generated code\n",
    "- Use it to learn new patterns and approaches\n",
    "- Combine it with your own knowledge and creativity\n",
    "\n",
    "As you continue to use Copilot, you'll develop a workflow that helps you write better code more efficiently while maintaining good coding practices."
   ]
  }
 ],
 "metadata": {
  "kernelspec": {
   "display_name": "Python 3",
   "language": "python",
   "name": "python3"
  },
  "language_info": {
   "codemirror_mode": {
    "name": "ipython",
    "version": 3
   },
   "file_extension": ".py",
   "mimetype": "text/x-python",
   "name": "python",
   "nbconvert_exporter": "python",
   "pygments_lexer": "ipython3",
   "version": "3.12.1"
  }
 },
 "nbformat": 4,
 "nbformat_minor": 4
}
